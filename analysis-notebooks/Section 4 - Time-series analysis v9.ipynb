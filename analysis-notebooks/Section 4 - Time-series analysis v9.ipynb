{
 "cells": [
  {
   "cell_type": "markdown",
   "metadata": {},
   "source": [
    "# Introduction"
   ]
  },
  {
   "cell_type": "markdown",
   "metadata": {},
   "source": [
    "Author: Harneet Rishi"
   ]
  },
  {
   "cell_type": "markdown",
   "metadata": {},
   "source": [
    "Purpose: Generate figures for time-series profiles (Fig 4e)"
   ]
  },
  {
   "cell_type": "markdown",
   "metadata": {},
   "source": [
    "# Imports"
   ]
  },
  {
   "cell_type": "markdown",
   "metadata": {},
   "source": [
    "## Modules/packages"
   ]
  },
  {
   "cell_type": "code",
   "execution_count": 1,
   "metadata": {},
   "outputs": [],
   "source": [
    "import pandas as pd\n",
    "pd.set_option('display.max_columns', None)\n",
    "import numpy as np\n",
    "\n",
    "import matplotlib.pyplot as plt\n",
    "%matplotlib inline\n",
    "import seaborn as sns\n",
    "\n",
    "import warnings\n",
    "warnings.filterwarnings('ignore')"
   ]
  },
  {
   "cell_type": "markdown",
   "metadata": {},
   "source": [
    "## Data"
   ]
  },
  {
   "cell_type": "markdown",
   "metadata": {},
   "source": [
    "### sgRNA annotations"
   ]
  },
  {
   "cell_type": "code",
   "execution_count": 2,
   "metadata": {
    "collapsed": false,
    "jupyter": {
     "outputs_hidden": false
    }
   },
   "outputs": [
    {
     "data": {
      "text/html": [
       "<div>\n",
       "<style scoped>\n",
       "    .dataframe tbody tr th:only-of-type {\n",
       "        vertical-align: middle;\n",
       "    }\n",
       "\n",
       "    .dataframe tbody tr th {\n",
       "        vertical-align: top;\n",
       "    }\n",
       "\n",
       "    .dataframe thead th {\n",
       "        text-align: right;\n",
       "    }\n",
       "</style>\n",
       "<table border=\"1\" class=\"dataframe\">\n",
       "  <thead>\n",
       "    <tr style=\"text-align: right;\">\n",
       "      <th></th>\n",
       "      <th>seq</th>\n",
       "      <th>pos</th>\n",
       "      <th>strand</th>\n",
       "      <th>category</th>\n",
       "      <th>product_name</th>\n",
       "      <th>gene_name_F2</th>\n",
       "      <th>bnumber_F2</th>\n",
       "      <th>Class(1:essential 2:noessential 3:unknown)</th>\n",
       "    </tr>\n",
       "    <tr>\n",
       "      <th>seq</th>\n",
       "      <th></th>\n",
       "      <th></th>\n",
       "      <th></th>\n",
       "      <th></th>\n",
       "      <th></th>\n",
       "      <th></th>\n",
       "      <th></th>\n",
       "      <th></th>\n",
       "    </tr>\n",
       "  </thead>\n",
       "  <tbody>\n",
       "    <tr>\n",
       "      <th>agcggtaaaattcgtgtaat</th>\n",
       "      <td>agcggtaaaattcgtgtaat</td>\n",
       "      <td>923423</td>\n",
       "      <td>+</td>\n",
       "      <td>Promoter</td>\n",
       "      <td></td>\n",
       "      <td>NaN</td>\n",
       "      <td>NaN</td>\n",
       "      <td>0</td>\n",
       "    </tr>\n",
       "    <tr>\n",
       "      <th>gcgagaaaccttattaacca</th>\n",
       "      <td>gcgagaaaccttattaacca</td>\n",
       "      <td>100609</td>\n",
       "      <td>+</td>\n",
       "      <td>Promoter</td>\n",
       "      <td></td>\n",
       "      <td>NaN</td>\n",
       "      <td>NaN</td>\n",
       "      <td>0</td>\n",
       "    </tr>\n",
       "    <tr>\n",
       "      <th>ggcgtgccgatgggctacgg</th>\n",
       "      <td>ggcgtgccgatgggctacgg</td>\n",
       "      <td>3046225</td>\n",
       "      <td>-</td>\n",
       "      <td>Promoter</td>\n",
       "      <td></td>\n",
       "      <td>NaN</td>\n",
       "      <td>NaN</td>\n",
       "      <td>0</td>\n",
       "    </tr>\n",
       "    <tr>\n",
       "      <th>gggctacggtggcccacacg</th>\n",
       "      <td>gggctacggtggcccacacg</td>\n",
       "      <td>3046214</td>\n",
       "      <td>-</td>\n",
       "      <td>Promoter</td>\n",
       "      <td></td>\n",
       "      <td>NaN</td>\n",
       "      <td>NaN</td>\n",
       "      <td>0</td>\n",
       "    </tr>\n",
       "    <tr>\n",
       "      <th>agttgtatgatgcaactagt</th>\n",
       "      <td>agttgtatgatgcaactagt</td>\n",
       "      <td>4638701</td>\n",
       "      <td>-</td>\n",
       "      <td>Promoter</td>\n",
       "      <td></td>\n",
       "      <td>NaN</td>\n",
       "      <td>NaN</td>\n",
       "      <td>0</td>\n",
       "    </tr>\n",
       "    <tr>\n",
       "      <th>cgtactgctcgggcccgaaa</th>\n",
       "      <td>cgtactgctcgggcccgaaa</td>\n",
       "      <td>2751592</td>\n",
       "      <td>+</td>\n",
       "      <td>Promoter</td>\n",
       "      <td></td>\n",
       "      <td>NaN</td>\n",
       "      <td>NaN</td>\n",
       "      <td>0</td>\n",
       "    </tr>\n",
       "    <tr>\n",
       "      <th>ggaaaagttttgcgctatgt</th>\n",
       "      <td>ggaaaagttttgcgctatgt</td>\n",
       "      <td>2554</td>\n",
       "      <td>+</td>\n",
       "      <td>Promoter</td>\n",
       "      <td></td>\n",
       "      <td>NaN</td>\n",
       "      <td>NaN</td>\n",
       "      <td>0</td>\n",
       "    </tr>\n",
       "    <tr>\n",
       "      <th>tagtccttccccttacggga</th>\n",
       "      <td>tagtccttccccttacggga</td>\n",
       "      <td>137014</td>\n",
       "      <td>-</td>\n",
       "      <td>Promoter</td>\n",
       "      <td></td>\n",
       "      <td>NaN</td>\n",
       "      <td>NaN</td>\n",
       "      <td>0</td>\n",
       "    </tr>\n",
       "    <tr>\n",
       "      <th>tggttttatatacagtaaag</th>\n",
       "      <td>tggttttatatacagtaaag</td>\n",
       "      <td>2749746</td>\n",
       "      <td>-</td>\n",
       "      <td>Promoter</td>\n",
       "      <td></td>\n",
       "      <td>NaN</td>\n",
       "      <td>NaN</td>\n",
       "      <td>0</td>\n",
       "    </tr>\n",
       "    <tr>\n",
       "      <th>ttattgtgtacagtataaac</th>\n",
       "      <td>ttattgtgtacagtataaac</td>\n",
       "      <td>2749766</td>\n",
       "      <td>-</td>\n",
       "      <td>Promoter</td>\n",
       "      <td></td>\n",
       "      <td>NaN</td>\n",
       "      <td>NaN</td>\n",
       "      <td>0</td>\n",
       "    </tr>\n",
       "  </tbody>\n",
       "</table>\n",
       "</div>"
      ],
      "text/plain": [
       "                                       seq      pos strand  category  \\\n",
       "seq                                                                    \n",
       "agcggtaaaattcgtgtaat  agcggtaaaattcgtgtaat   923423      +  Promoter   \n",
       "gcgagaaaccttattaacca  gcgagaaaccttattaacca   100609      +  Promoter   \n",
       "ggcgtgccgatgggctacgg  ggcgtgccgatgggctacgg  3046225      -  Promoter   \n",
       "gggctacggtggcccacacg  gggctacggtggcccacacg  3046214      -  Promoter   \n",
       "agttgtatgatgcaactagt  agttgtatgatgcaactagt  4638701      -  Promoter   \n",
       "cgtactgctcgggcccgaaa  cgtactgctcgggcccgaaa  2751592      +  Promoter   \n",
       "ggaaaagttttgcgctatgt  ggaaaagttttgcgctatgt     2554      +  Promoter   \n",
       "tagtccttccccttacggga  tagtccttccccttacggga   137014      -  Promoter   \n",
       "tggttttatatacagtaaag  tggttttatatacagtaaag  2749746      -  Promoter   \n",
       "ttattgtgtacagtataaac  ttattgtgtacagtataaac  2749766      -  Promoter   \n",
       "\n",
       "                     product_name gene_name_F2 bnumber_F2  \\\n",
       "seq                                                         \n",
       "agcggtaaaattcgtgtaat                       NaN        NaN   \n",
       "gcgagaaaccttattaacca                       NaN        NaN   \n",
       "ggcgtgccgatgggctacgg                       NaN        NaN   \n",
       "gggctacggtggcccacacg                       NaN        NaN   \n",
       "agttgtatgatgcaactagt                       NaN        NaN   \n",
       "cgtactgctcgggcccgaaa                       NaN        NaN   \n",
       "ggaaaagttttgcgctatgt                       NaN        NaN   \n",
       "tagtccttccccttacggga                       NaN        NaN   \n",
       "tggttttatatacagtaaag                       NaN        NaN   \n",
       "ttattgtgtacagtataaac                       NaN        NaN   \n",
       "\n",
       "                      Class(1:essential 2:noessential 3:unknown)  \n",
       "seq                                                               \n",
       "agcggtaaaattcgtgtaat                                           0  \n",
       "gcgagaaaccttattaacca                                           0  \n",
       "ggcgtgccgatgggctacgg                                           0  \n",
       "gggctacggtggcccacacg                                           0  \n",
       "agttgtatgatgcaactagt                                           0  \n",
       "cgtactgctcgggcccgaaa                                           0  \n",
       "ggaaaagttttgcgctatgt                                           0  \n",
       "tagtccttccccttacggga                                           0  \n",
       "tggttttatatacagtaaag                                           0  \n",
       "ttattgtgtacagtataaac                                           0  "
      ]
     },
     "execution_count": 2,
     "metadata": {},
     "output_type": "execute_result"
    }
   ],
   "source": [
    "df_sgRNA_info_update_3 = pd.read_csv('SourceData/APAHR007_v4_21-df_sgRNA_info_update_3.csv')\n",
    "df_sgRNA_info_update_3.drop(labels = 'seq.1', inplace = True, axis = 1)\n",
    "df_sgRNA_info_update_3.set_index(keys = 'seq', inplace = True, drop = False)\n",
    "df_sgRNA_info_update_3.head(10)"
   ]
  },
  {
   "cell_type": "code",
   "execution_count": 3,
   "metadata": {
    "scrolled": true
   },
   "outputs": [],
   "source": [
    "df_sgRNA_info_update_3_IndGeneName = df_sgRNA_info_update_3.set_index(keys = 'gene_name_F2', drop = False)\n",
    "df_sgRNA_info_update_3_IndGeneName = df_sgRNA_info_update_3_IndGeneName.drop_duplicates(subset = 'gene_name_F2')"
   ]
  },
  {
   "cell_type": "markdown",
   "metadata": {},
   "source": [
    "### Fitness Values"
   ]
  },
  {
   "cell_type": "code",
   "execution_count": 4,
   "metadata": {
    "collapsed": false,
    "jupyter": {
     "outputs_hidden": false
    }
   },
   "outputs": [],
   "source": [
    "df_topd24t0_LB = pd.read_csv('SourceData/edgeR_3-topd24t0_LB_ae.csv')\n",
    "df_topd24t0_LB.set_index(keys = 'seq', inplace = True, drop = False)\n",
    "df_LRs_GEq_2e6 = pd.read_csv('SourceData/APAHR007_v4_20-df_LRs_GEq_2e6_nmed.csv')\n",
    "df_LRs_GEq_2e6_nmed = pd.read_csv('SourceData/APAHR007_v4_20-df_LRs_GEq_2e6_nmed.csv')\n",
    "df_LRs_GEq_2e6_nmed.set_index(keys = 'seq', inplace = True, drop = False)\n",
    "\n",
    "cols_LB = [u'd24_tR2_LR_nmed', u'd24_tR3_LR_nmed', u'ET165_LB_ae_d24_B5T2_LR_nmed', u'ET165_LB_ae_d24_B6T2_LR_nmed',\n",
    "           u'ET165_R1_1.25mL_d24_LR_nmed', u'ET165_R2_1.25mL_d24_LR_nmed', u'ET165_R3.1_1mL_d24_LR_nmed',\n",
    "           u'ET165_R3.2_1mL_d24_LR_nmed', u'ET165_R4_2mL_d24_LR_nmed']\n",
    "cols_M9Ca = [ u'M9_B2T1_d24_Ca_LR_nmed', u'M9_B2T2_d24_Ca_LR_nmed', u'M9_B2T3_d24_Ca_LR_nmed']\n",
    "cols_M9 = [u'M9_B2T1_d24_LR_nmed', u'M9_B2T2_d24_LR_nmed', u'M9_B2T3_d24_LR_nmed']\n",
    "\n",
    "df_LRs_GEq_2e6_nmed['LB_ae_avgLR_nmed'] = df_LRs_GEq_2e6_nmed[cols_LB].mean(axis = 1)\n",
    "df_LRs_GEq_2e6_nmed['M9Ca_ae_avgLR_nmed'] = df_LRs_GEq_2e6_nmed[cols_M9Ca].mean(axis = 1)\n",
    "df_LRs_GEq_2e6_nmed['M9_ae_avgLR_nmed'] = df_LRs_GEq_2e6_nmed[cols_M9].mean(axis = 1)\n",
    "\n",
    "cols_to_transfer = [u'strand', u'category', u'product_name', u'gene_name_F2', u'bnumber_F2', \n",
    "                    u'Class(1:essential 2:noessential 3:unknown)']\n",
    "for col in cols_to_transfer:\n",
    "    df_LRs_GEq_2e6_nmed[col] = df_sgRNA_info_update_3[col]\n",
    "    \n",
    "sel_cols = ['seq','LB_ae_avgLR_nmed', 'M9Ca_ae_avgLR_nmed', 'M9_ae_avgLR_nmed',\n",
    "            u'ET165_LB_ae_t0', u'M9_t0_BR2_glu+gly',\n",
    "            u'category', u'product_name', u'gene_name_F2', u'bnumber_F2', \n",
    "                    u'Class(1:essential 2:noessential 3:unknown)']\n",
    "df_LRs_GEq_2e6_nmed_selcols = df_LRs_GEq_2e6_nmed[sel_cols]\n",
    "\n",
    "\n",
    "df_LRs_GEq_2e6_nmed_selcols['LB_logFC'] = df_topd24t0_LB['logFC']\n",
    "df_LRs_GEq_2e6_nmed_selcols['LB_FDR'] = df_topd24t0_LB['FDR']"
   ]
  },
  {
   "cell_type": "code",
   "execution_count": 5,
   "metadata": {},
   "outputs": [],
   "source": [
    "df_LRs_GEq_2e6_nmed_selcols_filt = df_LRs_GEq_2e6_nmed_selcols[df_LRs_GEq_2e6_nmed_selcols['ET165_LB_ae_t0'] >= 10]\n",
    "\n",
    "df_LRs_GEq_2e6_nmed_selcols_filt_AllGenes = df_LRs_GEq_2e6_nmed_selcols_filt[df_LRs_GEq_2e6_nmed_selcols_filt['category'] == 'All_Genes']\n",
    "\n",
    "df_LRs_GEq_2e6_nmed_selcols_filt_AllGenes_gpby = df_LRs_GEq_2e6_nmed_selcols_filt_AllGenes.groupby('gene_name_F2').median()\n",
    "df_LRs_GEq_2e6_nmed_selcols_filt_AllGenes_gpby['gene_name_F2'] = df_LRs_GEq_2e6_nmed_selcols_filt_AllGenes_gpby.index"
   ]
  },
  {
   "cell_type": "code",
   "execution_count": 6,
   "metadata": {},
   "outputs": [],
   "source": [
    "df_df_KDcols_gpby_AvgLR_km3f_selcols = pd.read_csv('Section 4v5/df_KDcols_gpby_AvgLR_km3f-selcols_ClassTIGRRoles.csv')\n",
    "df_df_KDcols_gpby_AvgLR_km3f_selcols.set_index(keys = 'gene_name_F2', inplace = True, drop = False)"
   ]
  },
  {
   "cell_type": "markdown",
   "metadata": {},
   "source": [
    "# Figures"
   ]
  },
  {
   "cell_type": "markdown",
   "metadata": {},
   "source": [
    "## Figure 4e"
   ]
  },
  {
   "cell_type": "markdown",
   "metadata": {},
   "source": [
    "### Process"
   ]
  },
  {
   "cell_type": "code",
   "execution_count": 7,
   "metadata": {},
   "outputs": [],
   "source": [
    "dict_ClassMap = {'Early': 1, 'Mid': 2, 'Late': 3}\n",
    "df_df_KDcols_gpby_AvgLR_km3f_selcols['LB_ae_avgLR_nmed'] = df_LRs_GEq_2e6_nmed_selcols_filt_AllGenes_gpby['LB_ae_avgLR_nmed']\n",
    "df_df_KDcols_gpby_AvgLR_km3f_selcols['Class#'] = df_df_KDcols_gpby_AvgLR_km3f_selcols['Class'].map(dict_ClassMap)"
   ]
  },
  {
   "cell_type": "markdown",
   "metadata": {},
   "source": [
    "### Visualize"
   ]
  },
  {
   "cell_type": "code",
   "execution_count": 11,
   "metadata": {
    "collapsed": false,
    "jupyter": {
     "outputs_hidden": false
    }
   },
   "outputs": [
    {
     "data": {
      "image/png": "[encoded data removed]",
      "text/plain": [
       "<Figure size 226.772x170.079 with 1 Axes>"
      ]
     },
     "metadata": {},
     "output_type": "display_data"
    }
   ],
   "source": [
    "sns.set_style('whitegrid')\n",
    "#fig = plt.figure(figsize = (58/25.4, 74.5/25.4))\n",
    "fig = plt.figure(figsize = (80/25.4, 60/25.4))\n",
    "ax = fig.add_subplot(1,1,1)\n",
    "plt.rcParams[\"font.family\"] = \"Arial\"\n",
    "\n",
    "\n",
    "df_plot = df_df_KDcols_gpby_AvgLR_km3f_selcols.copy()\n",
    "\n",
    "plt.tick_params('both', labelsize = 7)\n",
    "\n",
    "\n",
    "ax = sns.swarmplot(x = 'Class', y = 'LB_ae_avgLR_nmed', data = df_plot,\n",
    "           order = ['Early', 'Mid', 'Late'], palette = ['#F37560', '#F37560', '#F37560'], \n",
    "                   dodge=True, s = 3, edgecolor = 'black', linewidth = 0.5)\n",
    "\n",
    "x = df_df_KDcols_gpby_AvgLR_km3f_selcols[df_df_KDcols_gpby_AvgLR_km3f_selcols['Class'] == 'Early']['LB_ae_avgLR_nmed'].dropna().values\n",
    "y = df_df_KDcols_gpby_AvgLR_km3f_selcols[df_df_KDcols_gpby_AvgLR_km3f_selcols['Class'] == 'Mid']['LB_ae_avgLR_nmed'].dropna().values\n",
    "z = df_df_KDcols_gpby_AvgLR_km3f_selcols[df_df_KDcols_gpby_AvgLR_km3f_selcols['Class'] == 'Late']['LB_ae_avgLR_nmed'].dropna().values\n",
    "\n",
    "\n",
    "ax.axhspan(ymin = min(x), ymax = max(x),\n",
    "           xmin = 0, xmax = 1, color = 'lightgray', alpha = 0.5)\n",
    "\n",
    "plt.xlabel('Gene Classification\\n(Time-series Measurement)', fontsize = 7)\n",
    "plt.ylabel('log$_2$ Fitness Score\\n(Endpoint Measurement)', fontsize = 7)\n",
    "plt.tick_params('both', labelsize = 7, length = 0)\n",
    "\n",
    "plt.savefig('Section 4v9/Fig_4e-EndptVSTimeSeries_shade.pdf')"
   ]
  },
  {
   "cell_type": "markdown",
   "metadata": {},
   "source": [
    "### Data Export"
   ]
  },
  {
   "cell_type": "code",
   "execution_count": 22,
   "metadata": {},
   "outputs": [
    {
     "data": {
      "text/html": [
       "<div>\n",
       "<style scoped>\n",
       "    .dataframe tbody tr th:only-of-type {\n",
       "        vertical-align: middle;\n",
       "    }\n",
       "\n",
       "    .dataframe tbody tr th {\n",
       "        vertical-align: top;\n",
       "    }\n",
       "\n",
       "    .dataframe thead th {\n",
       "        text-align: right;\n",
       "    }\n",
       "</style>\n",
       "<table border=\"1\" class=\"dataframe\">\n",
       "  <thead>\n",
       "    <tr style=\"text-align: right;\">\n",
       "      <th></th>\n",
       "      <th>gene_name_F2</th>\n",
       "      <th>Class</th>\n",
       "      <th>LB_ae_avgLR_nmed</th>\n",
       "    </tr>\n",
       "  </thead>\n",
       "  <tbody>\n",
       "    <tr>\n",
       "      <th>0</th>\n",
       "      <td>accA</td>\n",
       "      <td>Mid</td>\n",
       "      <td>-6.603346</td>\n",
       "    </tr>\n",
       "    <tr>\n",
       "      <th>1</th>\n",
       "      <td>accB</td>\n",
       "      <td>Mid</td>\n",
       "      <td>-7.705001</td>\n",
       "    </tr>\n",
       "    <tr>\n",
       "      <th>2</th>\n",
       "      <td>accC</td>\n",
       "      <td>Mid</td>\n",
       "      <td>-6.174842</td>\n",
       "    </tr>\n",
       "    <tr>\n",
       "      <th>3</th>\n",
       "      <td>accD</td>\n",
       "      <td>Early</td>\n",
       "      <td>-7.174079</td>\n",
       "    </tr>\n",
       "    <tr>\n",
       "      <th>4</th>\n",
       "      <td>acpP</td>\n",
       "      <td>Early</td>\n",
       "      <td>-6.813555</td>\n",
       "    </tr>\n",
       "    <tr>\n",
       "      <th>...</th>\n",
       "      <td>...</td>\n",
       "      <td>...</td>\n",
       "      <td>...</td>\n",
       "    </tr>\n",
       "    <tr>\n",
       "      <th>282</th>\n",
       "      <td>yejM</td>\n",
       "      <td>Mid</td>\n",
       "      <td>-5.952893</td>\n",
       "    </tr>\n",
       "    <tr>\n",
       "      <th>283</th>\n",
       "      <td>yidC</td>\n",
       "      <td>Early</td>\n",
       "      <td>-6.933622</td>\n",
       "    </tr>\n",
       "    <tr>\n",
       "      <th>284</th>\n",
       "      <td>yihA</td>\n",
       "      <td>Late</td>\n",
       "      <td>-4.923629</td>\n",
       "    </tr>\n",
       "    <tr>\n",
       "      <th>285</th>\n",
       "      <td>yrfF</td>\n",
       "      <td>Late</td>\n",
       "      <td>-4.107046</td>\n",
       "    </tr>\n",
       "    <tr>\n",
       "      <th>286</th>\n",
       "      <td>zipA</td>\n",
       "      <td>Late</td>\n",
       "      <td>-3.424619</td>\n",
       "    </tr>\n",
       "  </tbody>\n",
       "</table>\n",
       "<p>287 rows × 3 columns</p>\n",
       "</div>"
      ],
      "text/plain": [
       "    gene_name_F2  Class  LB_ae_avgLR_nmed\n",
       "0           accA    Mid         -6.603346\n",
       "1           accB    Mid         -7.705001\n",
       "2           accC    Mid         -6.174842\n",
       "3           accD  Early         -7.174079\n",
       "4           acpP  Early         -6.813555\n",
       "..           ...    ...               ...\n",
       "282         yejM    Mid         -5.952893\n",
       "283         yidC  Early         -6.933622\n",
       "284         yihA   Late         -4.923629\n",
       "285         yrfF   Late         -4.107046\n",
       "286         zipA   Late         -3.424619\n",
       "\n",
       "[287 rows x 3 columns]"
      ]
     },
     "execution_count": 22,
     "metadata": {},
     "output_type": "execute_result"
    }
   ],
   "source": [
    "df_Fig4e = df_df_KDcols_gpby_AvgLR_km3f_selcols[['gene_name_F2', 'Class','LB_ae_avgLR_nmed']].reset_index(drop=True)\n",
    "df_Fig4e.to_excel('Section 4v9/Table_Fig-4e.xlsx')\n",
    "df_Fig4e"
   ]
  }
 ],
 "metadata": {
  "kernelspec": {
   "display_name": "Python 3",
   "language": "python",
   "name": "python3"
  },
  "language_info": {
   "codemirror_mode": {
    "name": "ipython",
    "version": 3
   },
   "file_extension": ".py",
   "mimetype": "text/x-python",
   "name": "python",
   "nbconvert_exporter": "python",
   "pygments_lexer": "ipython3",
   "version": "3.8.5"
  }
 },
 "nbformat": 4,
 "nbformat_minor": 4
}
