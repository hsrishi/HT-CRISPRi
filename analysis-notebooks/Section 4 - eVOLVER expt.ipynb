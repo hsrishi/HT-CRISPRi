{
 "cells": [
  {
   "cell_type": "markdown",
   "metadata": {},
   "source": [
    "# Introduction"
   ]
  },
  {
   "cell_type": "markdown",
   "metadata": {},
   "source": [
    "Author: Harneet Rishi"
   ]
  },
  {
   "cell_type": "markdown",
   "metadata": {},
   "source": [
    "Purpose: Generate figures and analysis for Section 4 (Time-series analysis); Figure 4c"
   ]
  },
  {
   "cell_type": "markdown",
   "metadata": {},
   "source": [
    "# Imports"
   ]
  },
  {
   "cell_type": "markdown",
   "metadata": {},
   "source": [
    "## Modules/packages"
   ]
  },
  {
   "cell_type": "code",
   "execution_count": 1,
   "metadata": {
    "collapsed": false,
    "jupyter": {
     "outputs_hidden": false
    }
   },
   "outputs": [],
   "source": [
    "import os\n",
    "import pandas as pd\n",
    "pd.set_option('display.max_columns', None)\n",
    "import numpy as np\n",
    "\n",
    "import matplotlib.pyplot as plt\n",
    "%matplotlib inline\n",
    "import seaborn as sns\n",
    "\n",
    "\n",
    "import statsmodels.stats.multitest as smm\n",
    "from scipy.special import comb\n",
    "from scipy.stats import hypergeom, pearsonr, mannwhitneyu\n",
    "import random\n",
    "\n",
    "import warnings\n",
    "warnings.filterwarnings('ignore')"
   ]
  },
  {
   "cell_type": "markdown",
   "metadata": {},
   "source": [
    "## Data"
   ]
  },
  {
   "cell_type": "markdown",
   "metadata": {},
   "source": [
    "### 2017-07-26 eVOLVER expt"
   ]
  },
  {
   "cell_type": "code",
   "execution_count": 2,
   "metadata": {},
   "outputs": [],
   "source": [
    "mapping_vial_2017 = {'0': 'WT',\n",
    "               '1': 'ftsZ',\n",
    "               '2': 'ftsZ',\n",
    "               '3': 'msbA',\n",
    "               '4': 'msbA',\n",
    "               '5': 'folC',\n",
    "               '6': 'folC',\n",
    "               '7': 'WT-ftsZ',\n",
    "               '8': 'WT-ftsZ',\n",
    "               '9': 'WT-ftsZ',\n",
    "               '10': 'WT-msbA',\n",
    "               '11': 'WT-msbA',\n",
    "               '12': 'WT-msbA',\n",
    "                '13': 'WT-folC',\n",
    "                '14': 'WT-folC',\n",
    "                '15': 'WT-folC'}"
   ]
  },
  {
   "cell_type": "code",
   "execution_count": 3,
   "metadata": {
    "collapsed": false,
    "jupyter": {
     "outputs_hidden": false
    }
   },
   "outputs": [],
   "source": [
    "dict_OD_2017 = {}\n",
    "\n",
    "for OD_file in os.listdir('SourceData/2017-07-26 eVOLVER EGene Class Expt'):\n",
    "    vial = OD_file.split('_')[0][4:]\n",
    "    dict_OD_2017[vial] = pd.read_table('SourceData/2017-07-26 eVOLVER EGene Class Expt/%s' % OD_file, sep = ',', names = ['Time (hr)', 'OD'])"
   ]
  },
  {
   "cell_type": "markdown",
   "metadata": {},
   "source": [
    "### 2019-04-01 eVOLVER expt"
   ]
  },
  {
   "cell_type": "code",
   "execution_count": 4,
   "metadata": {},
   "outputs": [],
   "source": [
    "mapping_vial_2019 = {'0': 'n/a',\n",
    "               '1': 'n/a',\n",
    "               '2': 'n/a',\n",
    "               '3': 'n/a',\n",
    "               '4': 'ctrl',\n",
    "               '5': 'ctrl',\n",
    "               '6': 'n/a',\n",
    "               '7': 'n/a',\n",
    "               '8': 'rpsK',\n",
    "               '9': 'rpsK',\n",
    "               '10': 'msbA',\n",
    "               '11': 'msbA',\n",
    "               '12': 'folC',\n",
    "                '13': 'folC',\n",
    "                '14': 'ftsZ',\n",
    "                '15': 'ftsZ'}"
   ]
  },
  {
   "cell_type": "code",
   "execution_count": 5,
   "metadata": {},
   "outputs": [],
   "source": [
    "dict_OD_2019 = {}\n",
    "\n",
    "for OD_file in os.listdir('SourceData/2019-04-01 eVOLVER EGene Class Expt'):\n",
    "    vial = OD_file.split('_')[0][4:]\n",
    "    dict_OD_2019[vial] = pd.read_table('SourceData/2019-04-01 eVOLVER EGene Class Expt/%s' % OD_file, sep = ',', names = ['Time (hr)', 'OD'])"
   ]
  },
  {
   "cell_type": "markdown",
   "metadata": {},
   "source": [
    "# Analysis & Visualizations"
   ]
  },
  {
   "cell_type": "markdown",
   "metadata": {},
   "source": [
    "## Figure 4c"
   ]
  },
  {
   "cell_type": "markdown",
   "metadata": {},
   "source": [
    "### Visualize"
   ]
  },
  {
   "cell_type": "code",
   "execution_count": 6,
   "metadata": {
    "collapsed": false,
    "jupyter": {
     "outputs_hidden": false
    }
   },
   "outputs": [
    {
     "data": {
      "image/png": "[encoded data removed]",
      "text/plain": [
       "<Figure size 226.772x113.386 with 1 Axes>"
      ]
     },
     "metadata": {},
     "output_type": "display_data"
    }
   ],
   "source": [
    "plt.rcParams[\"font.family\"] = \"Arial\"\n",
    "sns.set_style('whitegrid', {'font.family': 'Arial'})\n",
    "\n",
    "fig = plt.figure(figsize = (80/25.4, 40/25.4))\n",
    "color_palette = sns.light_palette('#F37560',4)\n",
    "\n",
    "i = 1\n",
    "\n",
    "ax = fig.add_subplot(1,1,1)\n",
    "ax.axhline(y = 0.25, **{'linestyle': '--', 'color':'gray', 'linewidth':0.5})\n",
    "ax.axhline(y = 0.50, **{'linestyle': '--', 'color':'gray', 'linewidth':0.5})\n",
    "\n",
    "#plt.plot(dict_OD_2019['4']['Time (hr)'], dict_OD_2019['4']['OD'], label = 'Control', color = 'lightgray')\n",
    "\n",
    "for vial in ['8', '9']:\n",
    "    plt.plot(dict_OD_2019[vial]['Time (hr)'], dict_OD_2019[vial]['OD'], label = 'Replicate %d' %i, color = color_palette[2*i-1],\n",
    "            linewidth = 0.5)\n",
    "    plt.xlim(0,12)\n",
    "    plt.ylim(0,0.6)\n",
    "    plt.legend(loc = 'lower right', fontsize = 7)\n",
    "    plt.tick_params('both', labelsize = 7)\n",
    "    plt.xlabel('Time (hr)', fontsize = 7)\n",
    "    plt.ylabel('OD', fontsize = 7)\n",
    "    #plt.text(0.45, 0.52, mapping_vial_2019[vial], fontsize = 7)\n",
    "    i += 1\n",
    "    \n",
    "plt.tick_params(length = 0)    \n",
    "plt.savefig('Section 4 eVOLVER/Fig_4_d_Early(rpsK)_AltColor2.pdf', type = 'pdf')"
   ]
  },
  {
   "cell_type": "code",
   "execution_count": 7,
   "metadata": {
    "collapsed": false,
    "jupyter": {
     "outputs_hidden": false
    }
   },
   "outputs": [
    {
     "data": {
      "image/png": "[encoded data removed]",
      "text/plain": [
       "<Figure size 226.772x113.386 with 1 Axes>"
      ]
     },
     "metadata": {},
     "output_type": "display_data"
    }
   ],
   "source": [
    "plt.rcParams[\"font.family\"] = \"Arial\"\n",
    "sns.set_style('whitegrid', {'font.family': 'Arial'})\n",
    "\n",
    "fig = plt.figure(figsize = (80/25.4, 40/25.4))\n",
    "color_palette = sns.light_palette('#F37560',4)\n",
    "\n",
    "i = 1\n",
    "\n",
    "ax = fig.add_subplot(1,1,1)\n",
    "ax.axhline(y = 0.25, **{'linestyle': '--', 'color':'gray', 'linewidth':0.5})\n",
    "ax.axhline(y = 0.50, **{'linestyle': '--', 'color':'gray', 'linewidth':0.5})\n",
    "\n",
    "#plt.plot(dict_OD_2019['4']['Time (hr)'], dict_OD_2019['4']['OD'], label = 'Control', color = 'lightgray')\n",
    "\n",
    "for vial in ['10', '11']:\n",
    "    plt.plot(dict_OD_2019[vial]['Time (hr)'], dict_OD_2019[vial]['OD'], label = 'Replicate %d' %i, color = color_palette[2*i-1],\n",
    "            linewidth = 0.5)\n",
    "    plt.xlim(0,12)\n",
    "    plt.ylim(0,0.6)\n",
    "    plt.legend(loc = 'lower right', fontsize = 7)\n",
    "    plt.tick_params('both', labelsize = 7)\n",
    "    plt.xlabel('Time (hr)', fontsize = 7)\n",
    "    plt.ylabel('OD', fontsize = 7)\n",
    "    #plt.text(0.45, 0.52, mapping_vial_2019[vial], fontsize = 7)\n",
    "    i += 1\n",
    "    \n",
    "plt.tick_params(length = 0)    \n",
    "plt.savefig('Section 4 eVOLVER/Fig_4_d_Mid(msbA)_AltColor2.pdf', type = 'pdf')"
   ]
  },
  {
   "cell_type": "code",
   "execution_count": 8,
   "metadata": {
    "collapsed": false,
    "jupyter": {
     "outputs_hidden": false
    }
   },
   "outputs": [
    {
     "data": {
      "image/png": "[encoded data removed]",
      "text/plain": [
       "<Figure size 226.772x113.386 with 1 Axes>"
      ]
     },
     "metadata": {},
     "output_type": "display_data"
    }
   ],
   "source": [
    "plt.rcParams[\"font.family\"] = \"Arial\"\n",
    "sns.set_style('whitegrid', {'font.family': 'Arial'})\n",
    "\n",
    "fig = plt.figure(figsize = (80/25.4, 40/25.4))\n",
    "color_palette = sns.light_palette('#F37560',4)\n",
    "\n",
    "i = 1\n",
    "\n",
    "ax = fig.add_subplot(1,1,1)\n",
    "ax.axhline(y = 0.25, **{'linestyle': '--', 'color':'gray', 'linewidth':0.5})\n",
    "ax.axhline(y = 0.50, **{'linestyle': '--', 'color':'gray', 'linewidth':0.5})\n",
    "\n",
    "#plt.plot(dict_OD_2019['4']['Time (hr)'], dict_OD_2019['4']['OD'], label = 'Control', color = 'lightgray')\n",
    "\n",
    "for vial in ['12', '13']:\n",
    "    plt.plot(dict_OD_2019[vial]['Time (hr)'], dict_OD_2019[vial]['OD'], label = 'Replicate %d' %i, color = color_palette[2*i-1],\n",
    "            linewidth = 0.5)\n",
    "    plt.xlim(0,12)\n",
    "    plt.ylim(0,0.6)\n",
    "    plt.legend(loc = 'lower right', fontsize = 7)\n",
    "    plt.tick_params('both', labelsize = 7)\n",
    "    plt.xlabel('Time (hr)', fontsize = 7)\n",
    "    plt.ylabel('OD', fontsize = 7)\n",
    "    #plt.text(0.45, 0.52, mapping_vial_2019[vial], fontsize = 7)\n",
    "    i += 1\n",
    "    \n",
    "plt.tick_params(length = 0)    \n",
    "plt.savefig('Section 4 eVOLVER/Fig_4_d_Late(folC)_AltColor2.pdf', type = 'pdf')"
   ]
  },
  {
   "cell_type": "markdown",
   "metadata": {},
   "source": [
    "### Data Export"
   ]
  },
  {
   "cell_type": "code",
   "execution_count": 9,
   "metadata": {},
   "outputs": [
    {
     "data": {
      "text/html": [
       "<div>\n",
       "<style scoped>\n",
       "    .dataframe tbody tr th:only-of-type {\n",
       "        vertical-align: middle;\n",
       "    }\n",
       "\n",
       "    .dataframe tbody tr th {\n",
       "        vertical-align: top;\n",
       "    }\n",
       "\n",
       "    .dataframe thead th {\n",
       "        text-align: right;\n",
       "    }\n",
       "</style>\n",
       "<table border=\"1\" class=\"dataframe\">\n",
       "  <thead>\n",
       "    <tr style=\"text-align: right;\">\n",
       "      <th></th>\n",
       "      <th>Time (hr)</th>\n",
       "      <th>OD</th>\n",
       "      <th>gene</th>\n",
       "      <th>replicate</th>\n",
       "    </tr>\n",
       "  </thead>\n",
       "  <tbody>\n",
       "    <tr>\n",
       "      <th>0</th>\n",
       "      <td>0.0004</td>\n",
       "      <td>0.018136</td>\n",
       "      <td>rpsK</td>\n",
       "      <td>1</td>\n",
       "    </tr>\n",
       "    <tr>\n",
       "      <th>1</th>\n",
       "      <td>0.0032</td>\n",
       "      <td>0.018335</td>\n",
       "      <td>rpsK</td>\n",
       "      <td>1</td>\n",
       "    </tr>\n",
       "    <tr>\n",
       "      <th>2</th>\n",
       "      <td>0.0060</td>\n",
       "      <td>0.018335</td>\n",
       "      <td>rpsK</td>\n",
       "      <td>1</td>\n",
       "    </tr>\n",
       "    <tr>\n",
       "      <th>3</th>\n",
       "      <td>0.0087</td>\n",
       "      <td>0.018784</td>\n",
       "      <td>rpsK</td>\n",
       "      <td>1</td>\n",
       "    </tr>\n",
       "    <tr>\n",
       "      <th>4</th>\n",
       "      <td>0.0115</td>\n",
       "      <td>0.018784</td>\n",
       "      <td>rpsK</td>\n",
       "      <td>1</td>\n",
       "    </tr>\n",
       "    <tr>\n",
       "      <th>...</th>\n",
       "      <td>...</td>\n",
       "      <td>...</td>\n",
       "      <td>...</td>\n",
       "      <td>...</td>\n",
       "    </tr>\n",
       "    <tr>\n",
       "      <th>5505</th>\n",
       "      <td>15.6619</td>\n",
       "      <td>0.297077</td>\n",
       "      <td>folC</td>\n",
       "      <td>2</td>\n",
       "    </tr>\n",
       "    <tr>\n",
       "      <th>5506</th>\n",
       "      <td>15.6652</td>\n",
       "      <td>0.326788</td>\n",
       "      <td>folC</td>\n",
       "      <td>2</td>\n",
       "    </tr>\n",
       "    <tr>\n",
       "      <th>5507</th>\n",
       "      <td>15.6681</td>\n",
       "      <td>0.343260</td>\n",
       "      <td>folC</td>\n",
       "      <td>2</td>\n",
       "    </tr>\n",
       "    <tr>\n",
       "      <th>5508</th>\n",
       "      <td>15.6743</td>\n",
       "      <td>0.299124</td>\n",
       "      <td>folC</td>\n",
       "      <td>2</td>\n",
       "    </tr>\n",
       "    <tr>\n",
       "      <th>5509</th>\n",
       "      <td>15.6796</td>\n",
       "      <td>0.315380</td>\n",
       "      <td>folC</td>\n",
       "      <td>2</td>\n",
       "    </tr>\n",
       "  </tbody>\n",
       "</table>\n",
       "<p>33060 rows × 4 columns</p>\n",
       "</div>"
      ],
      "text/plain": [
       "      Time (hr)        OD  gene  replicate\n",
       "0        0.0004  0.018136  rpsK          1\n",
       "1        0.0032  0.018335  rpsK          1\n",
       "2        0.0060  0.018335  rpsK          1\n",
       "3        0.0087  0.018784  rpsK          1\n",
       "4        0.0115  0.018784  rpsK          1\n",
       "...         ...       ...   ...        ...\n",
       "5505    15.6619  0.297077  folC          2\n",
       "5506    15.6652  0.326788  folC          2\n",
       "5507    15.6681  0.343260  folC          2\n",
       "5508    15.6743  0.299124  folC          2\n",
       "5509    15.6796  0.315380  folC          2\n",
       "\n",
       "[33060 rows x 4 columns]"
      ]
     },
     "execution_count": 9,
     "metadata": {},
     "output_type": "execute_result"
    }
   ],
   "source": [
    "dict_Fig4c = {}\n",
    "\n",
    "for gene,vials in zip(['rpsK', 'msbA', 'folC'], [['8', '9'], ['10', '11'], ['12', '13']]):\n",
    "    _df_r1 = dict_OD_2019[vials[0]]\n",
    "    _df_r1['gene'] = gene\n",
    "    _df_r1['replicate'] = 1\n",
    "    \n",
    "    _df_r2 = dict_OD_2019[vials[1]]\n",
    "    _df_r2['gene'] = gene\n",
    "    _df_r2['replicate'] = 2\n",
    "    \n",
    "    _df = pd.concat([_df_r1, _df_r2], axis=0)\n",
    "    \n",
    "    dict_Fig4c[gene] = _df.copy()\n",
    "    \n",
    "df_Fig4c = pd.concat(dict_Fig4c.values(), axis=0)\n",
    "df_Fig4c.to_excel('Section 4 eVOLVER/Table_Fig-4d.xlsx')\n",
    "df_Fig4c"
   ]
  },
  {
   "cell_type": "markdown",
   "metadata": {},
   "source": [
    "## Supplementary Information"
   ]
  },
  {
   "cell_type": "markdown",
   "metadata": {},
   "source": [
    "### Supp Fig 10a"
   ]
  },
  {
   "cell_type": "markdown",
   "metadata": {},
   "source": [
    "#### Visualize"
   ]
  },
  {
   "cell_type": "code",
   "execution_count": 10,
   "metadata": {
    "collapsed": false,
    "jupyter": {
     "outputs_hidden": false
    }
   },
   "outputs": [
    {
     "data": {
      "image/png": "[encoded data removed]",
      "text/plain": [
       "<Figure size 226.772x113.386 with 1 Axes>"
      ]
     },
     "metadata": {},
     "output_type": "display_data"
    }
   ],
   "source": [
    "plt.rcParams[\"font.family\"] = \"Arial\"\n",
    "sns.set_style('whitegrid', {'font.family': 'Arial'})\n",
    "\n",
    "fig = plt.figure(figsize = (80/25.4, 40/25.4))\n",
    "color_palette = sns.light_palette('#D1D2D4',5)\n",
    "\n",
    "i = 1\n",
    "\n",
    "ax = fig.add_subplot(1,1,1)\n",
    "ax.axhline(y = 0.25, **{'linestyle': '--', 'color':'gray', 'linewidth':0.5})\n",
    "ax.axhline(y = 0.50, **{'linestyle': '--', 'color':'gray', 'linewidth':0.5})\n",
    "\n",
    "for vial in ['4', '5']:\n",
    "    plt.plot(dict_OD_2019[vial]['Time (hr)'], dict_OD_2019[vial]['OD'], label = 'Replicate %d' %i, color = color_palette[2*i],\n",
    "            linewidth = 0.5)\n",
    "    plt.xlim(0,12)\n",
    "    plt.ylim(0,0.6)\n",
    "    plt.legend(loc = 'lower right', fontsize = 7)\n",
    "    plt.tick_params('both', labelsize = 7)\n",
    "    plt.xlabel('Time (hr)', fontsize = 7)\n",
    "    plt.ylabel('OD', fontsize = 7)\n",
    "    #plt.text(0.45, 0.52, mapping_vial_2019[vial], fontsize = 7)\n",
    "    i += 1\n",
    "    \n",
    "plt.tick_params(length = 0)    \n",
    "plt.savefig('Section 4 eVOLVER/SuppFig_eVOLVER(control)_AltColor2.pdf', type = 'pdf')"
   ]
  },
  {
   "cell_type": "markdown",
   "metadata": {},
   "source": [
    "#### Data Export"
   ]
  },
  {
   "cell_type": "code",
   "execution_count": 11,
   "metadata": {},
   "outputs": [
    {
     "data": {
      "text/html": [
       "<div>\n",
       "<style scoped>\n",
       "    .dataframe tbody tr th:only-of-type {\n",
       "        vertical-align: middle;\n",
       "    }\n",
       "\n",
       "    .dataframe tbody tr th {\n",
       "        vertical-align: top;\n",
       "    }\n",
       "\n",
       "    .dataframe thead th {\n",
       "        text-align: right;\n",
       "    }\n",
       "</style>\n",
       "<table border=\"1\" class=\"dataframe\">\n",
       "  <thead>\n",
       "    <tr style=\"text-align: right;\">\n",
       "      <th></th>\n",
       "      <th>Time (hr)</th>\n",
       "      <th>OD</th>\n",
       "      <th>gene</th>\n",
       "      <th>replicate</th>\n",
       "    </tr>\n",
       "  </thead>\n",
       "  <tbody>\n",
       "    <tr>\n",
       "      <th>0</th>\n",
       "      <td>0.0004</td>\n",
       "      <td>0.024184</td>\n",
       "      <td>control</td>\n",
       "      <td>1</td>\n",
       "    </tr>\n",
       "    <tr>\n",
       "      <th>1</th>\n",
       "      <td>0.0032</td>\n",
       "      <td>0.024450</td>\n",
       "      <td>control</td>\n",
       "      <td>1</td>\n",
       "    </tr>\n",
       "    <tr>\n",
       "      <th>2</th>\n",
       "      <td>0.0060</td>\n",
       "      <td>0.024450</td>\n",
       "      <td>control</td>\n",
       "      <td>1</td>\n",
       "    </tr>\n",
       "    <tr>\n",
       "      <th>3</th>\n",
       "      <td>0.0087</td>\n",
       "      <td>0.025850</td>\n",
       "      <td>control</td>\n",
       "      <td>1</td>\n",
       "    </tr>\n",
       "    <tr>\n",
       "      <th>4</th>\n",
       "      <td>0.0115</td>\n",
       "      <td>0.025850</td>\n",
       "      <td>control</td>\n",
       "      <td>1</td>\n",
       "    </tr>\n",
       "    <tr>\n",
       "      <th>...</th>\n",
       "      <td>...</td>\n",
       "      <td>...</td>\n",
       "      <td>...</td>\n",
       "      <td>...</td>\n",
       "    </tr>\n",
       "    <tr>\n",
       "      <th>5505</th>\n",
       "      <td>15.6619</td>\n",
       "      <td>0.458223</td>\n",
       "      <td>control</td>\n",
       "      <td>2</td>\n",
       "    </tr>\n",
       "    <tr>\n",
       "      <th>5506</th>\n",
       "      <td>15.6652</td>\n",
       "      <td>0.473238</td>\n",
       "      <td>control</td>\n",
       "      <td>2</td>\n",
       "    </tr>\n",
       "    <tr>\n",
       "      <th>5507</th>\n",
       "      <td>15.6681</td>\n",
       "      <td>0.459551</td>\n",
       "      <td>control</td>\n",
       "      <td>2</td>\n",
       "    </tr>\n",
       "    <tr>\n",
       "      <th>5508</th>\n",
       "      <td>15.6743</td>\n",
       "      <td>0.464714</td>\n",
       "      <td>control</td>\n",
       "      <td>2</td>\n",
       "    </tr>\n",
       "    <tr>\n",
       "      <th>5509</th>\n",
       "      <td>15.6796</td>\n",
       "      <td>0.450896</td>\n",
       "      <td>control</td>\n",
       "      <td>2</td>\n",
       "    </tr>\n",
       "  </tbody>\n",
       "</table>\n",
       "<p>11020 rows × 4 columns</p>\n",
       "</div>"
      ],
      "text/plain": [
       "      Time (hr)        OD     gene  replicate\n",
       "0        0.0004  0.024184  control          1\n",
       "1        0.0032  0.024450  control          1\n",
       "2        0.0060  0.024450  control          1\n",
       "3        0.0087  0.025850  control          1\n",
       "4        0.0115  0.025850  control          1\n",
       "...         ...       ...      ...        ...\n",
       "5505    15.6619  0.458223  control          2\n",
       "5506    15.6652  0.473238  control          2\n",
       "5507    15.6681  0.459551  control          2\n",
       "5508    15.6743  0.464714  control          2\n",
       "5509    15.6796  0.450896  control          2\n",
       "\n",
       "[11020 rows x 4 columns]"
      ]
     },
     "execution_count": 11,
     "metadata": {},
     "output_type": "execute_result"
    }
   ],
   "source": [
    "dict_SuppFig10a = {}\n",
    "\n",
    "for gene,vials in zip(['control'], [['4', '5']]):\n",
    "    _df_r1 = dict_OD_2019[vials[0]]\n",
    "    _df_r1['gene'] = gene\n",
    "    _df_r1['replicate'] = 1\n",
    "    \n",
    "    _df_r2 = dict_OD_2019[vials[1]]\n",
    "    _df_r2['gene'] = gene\n",
    "    _df_r2['replicate'] = 2\n",
    "    \n",
    "    _df = pd.concat([_df_r1, _df_r2], axis=0)\n",
    "    \n",
    "    dict_SuppFig10a[gene] = _df.copy()\n",
    "    \n",
    "df_SuppFig10a = pd.concat(dict_SuppFig10a.values(), axis=0)\n",
    "df_SuppFig10a.to_excel('Section 4 eVOLVER/Table_SuppFig-10a.xlsx')\n",
    "df_SuppFig10a"
   ]
  },
  {
   "cell_type": "markdown",
   "metadata": {},
   "source": [
    "### Supp Fig 10b"
   ]
  },
  {
   "cell_type": "markdown",
   "metadata": {},
   "source": [
    "#### Visualize"
   ]
  },
  {
   "cell_type": "code",
   "execution_count": 12,
   "metadata": {
    "collapsed": false,
    "jupyter": {
     "outputs_hidden": false
    }
   },
   "outputs": [
    {
     "data": {
      "image/png": "[encoded data removed]",
      "text/plain": [
       "<Figure size 226.772x113.386 with 1 Axes>"
      ]
     },
     "metadata": {},
     "output_type": "display_data"
    }
   ],
   "source": [
    "plt.rcParams[\"font.family\"] = \"Arial\"\n",
    "sns.set_style('whitegrid', {'font.family': 'Arial'})\n",
    "\n",
    "fig = plt.figure(figsize = (80/25.4, 40/25.4))\n",
    "color_palette = sns.light_palette('#F37560',4)\n",
    "\n",
    "i = 1\n",
    "\n",
    "ax = fig.add_subplot(1,1,1)\n",
    "ax.axhline(y = 0.1, **{'linestyle': '--', 'color':'gray', 'linewidth':0.5})\n",
    "ax.axhline(y = 0.2, **{'linestyle': '--', 'color':'gray', 'linewidth':0.5})\n",
    "\n",
    "vial = '0'\n",
    "plt.plot(dict_OD_2017['0']['Time (hr)'], dict_OD_2017['0']['OD'], label = 'Control strain', color = '#D1D2D4', linewidth = 0.5)\n",
    "plt.xlim(0,10)\n",
    "plt.ylim(-0.1,0.25)\n",
    "plt.legend(loc = 'lower right', fontsize = 7)\n",
    "plt.tick_params('both', labelsize = 7)\n",
    "plt.xlabel('Time (hr)', fontsize = 7)\n",
    "plt.ylabel('OD', fontsize = 7)\n",
    "\n",
    "i = 1\n",
    "for vial in ['1', '2']:\n",
    "    plt.plot(dict_OD_2017[vial]['Time (hr)'], dict_OD_2017[vial]['OD'], label = 'Replicate %d' %i, color = color_palette[2*i-1],\n",
    "            linewidth = 0.5)\n",
    "    plt.xlim(0,10)\n",
    "    plt.ylim(-0.1,0.25)\n",
    "    plt.legend(loc = 'lower right', fontsize = 7)\n",
    "    plt.tick_params('both', labelsize = 7, length = 0)\n",
    "    plt.xlabel('Time (hr)', fontsize = 7)\n",
    "    plt.ylabel('OD', fontsize = 7)\n",
    "    i += 1\n",
    "\n",
    "ax.get_xaxis().set_tick_params(direction='in', width=0)\n",
    "ax.get_yaxis().set_tick_params(direction='in', width=0)\n",
    "    \n",
    "plt.savefig('Section 4 eVOLVER/SuppFig_eVOLVER_Mid(ftsZ)-ctrl_Altcolor2.pdf', type = 'pdf')"
   ]
  },
  {
   "cell_type": "markdown",
   "metadata": {},
   "source": [
    "#### Data Export"
   ]
  },
  {
   "cell_type": "code",
   "execution_count": 13,
   "metadata": {},
   "outputs": [
    {
     "data": {
      "text/html": [
       "<div>\n",
       "<style scoped>\n",
       "    .dataframe tbody tr th:only-of-type {\n",
       "        vertical-align: middle;\n",
       "    }\n",
       "\n",
       "    .dataframe tbody tr th {\n",
       "        vertical-align: top;\n",
       "    }\n",
       "\n",
       "    .dataframe thead th {\n",
       "        text-align: right;\n",
       "    }\n",
       "</style>\n",
       "<table border=\"1\" class=\"dataframe\">\n",
       "  <thead>\n",
       "    <tr style=\"text-align: right;\">\n",
       "      <th></th>\n",
       "      <th>Time (hr)</th>\n",
       "      <th>OD</th>\n",
       "      <th>gene</th>\n",
       "      <th>replicate</th>\n",
       "    </tr>\n",
       "  </thead>\n",
       "  <tbody>\n",
       "    <tr>\n",
       "      <th>0</th>\n",
       "      <td>0.0000</td>\n",
       "      <td>0.000000</td>\n",
       "      <td>control</td>\n",
       "      <td>1</td>\n",
       "    </tr>\n",
       "    <tr>\n",
       "      <th>1</th>\n",
       "      <td>0.0028</td>\n",
       "      <td>0.000558</td>\n",
       "      <td>control</td>\n",
       "      <td>1</td>\n",
       "    </tr>\n",
       "    <tr>\n",
       "      <th>2</th>\n",
       "      <td>0.0056</td>\n",
       "      <td>0.000558</td>\n",
       "      <td>control</td>\n",
       "      <td>1</td>\n",
       "    </tr>\n",
       "    <tr>\n",
       "      <th>3</th>\n",
       "      <td>0.0084</td>\n",
       "      <td>-0.001403</td>\n",
       "      <td>control</td>\n",
       "      <td>1</td>\n",
       "    </tr>\n",
       "    <tr>\n",
       "      <th>4</th>\n",
       "      <td>0.0112</td>\n",
       "      <td>-0.001403</td>\n",
       "      <td>control</td>\n",
       "      <td>1</td>\n",
       "    </tr>\n",
       "    <tr>\n",
       "      <th>...</th>\n",
       "      <td>...</td>\n",
       "      <td>...</td>\n",
       "      <td>...</td>\n",
       "      <td>...</td>\n",
       "    </tr>\n",
       "    <tr>\n",
       "      <th>6828</th>\n",
       "      <td>19.9183</td>\n",
       "      <td>0.043158</td>\n",
       "      <td>ftsZ</td>\n",
       "      <td>2</td>\n",
       "    </tr>\n",
       "    <tr>\n",
       "      <th>6829</th>\n",
       "      <td>19.9212</td>\n",
       "      <td>0.044332</td>\n",
       "      <td>ftsZ</td>\n",
       "      <td>2</td>\n",
       "    </tr>\n",
       "    <tr>\n",
       "      <th>6830</th>\n",
       "      <td>19.9242</td>\n",
       "      <td>0.044332</td>\n",
       "      <td>ftsZ</td>\n",
       "      <td>2</td>\n",
       "    </tr>\n",
       "    <tr>\n",
       "      <th>6831</th>\n",
       "      <td>19.9272</td>\n",
       "      <td>0.048226</td>\n",
       "      <td>ftsZ</td>\n",
       "      <td>2</td>\n",
       "    </tr>\n",
       "    <tr>\n",
       "      <th>6832</th>\n",
       "      <td>19.9302</td>\n",
       "      <td>0.048226</td>\n",
       "      <td>ftsZ</td>\n",
       "      <td>2</td>\n",
       "    </tr>\n",
       "  </tbody>\n",
       "</table>\n",
       "<p>20499 rows × 4 columns</p>\n",
       "</div>"
      ],
      "text/plain": [
       "      Time (hr)        OD     gene  replicate\n",
       "0        0.0000  0.000000  control          1\n",
       "1        0.0028  0.000558  control          1\n",
       "2        0.0056  0.000558  control          1\n",
       "3        0.0084 -0.001403  control          1\n",
       "4        0.0112 -0.001403  control          1\n",
       "...         ...       ...      ...        ...\n",
       "6828    19.9183  0.043158     ftsZ          2\n",
       "6829    19.9212  0.044332     ftsZ          2\n",
       "6830    19.9242  0.044332     ftsZ          2\n",
       "6831    19.9272  0.048226     ftsZ          2\n",
       "6832    19.9302  0.048226     ftsZ          2\n",
       "\n",
       "[20499 rows x 4 columns]"
      ]
     },
     "execution_count": 13,
     "metadata": {},
     "output_type": "execute_result"
    }
   ],
   "source": [
    "dict_SuppFig10b = {}\n",
    "\n",
    "_df_ctrl = dict_OD_2017['0']\n",
    "_df_ctrl['gene'] = 'control'\n",
    "_df_ctrl['replicate'] = 1\n",
    "dict_SuppFig10b['control'] = _df_ctrl.copy()\n",
    "\n",
    "\n",
    "for gene,vials in zip(['ftsZ'], [['1', '2']]):\n",
    "    _df_r1 = dict_OD_2017[vials[0]]\n",
    "    _df_r1['gene'] = gene\n",
    "    _df_r1['replicate'] = 1\n",
    "    \n",
    "    _df_r2 = dict_OD_2017[vials[1]]\n",
    "    _df_r2['gene'] = gene\n",
    "    _df_r2['replicate'] = 2\n",
    "    \n",
    "    _df = pd.concat([_df_r1, _df_r2], axis=0)\n",
    "    \n",
    "    dict_SuppFig10b[gene] = _df.copy()\n",
    "    \n",
    "df_SuppFig10b = pd.concat(dict_SuppFig10b.values(), axis=0)\n",
    "df_SuppFig10b.to_excel('Section 4 eVOLVER/Table_SuppFig-10b.xlsx')\n",
    "df_SuppFig10b"
   ]
  }
 ],
 "metadata": {
  "kernelspec": {
   "display_name": "Python 3",
   "language": "python",
   "name": "python3"
  },
  "language_info": {
   "codemirror_mode": {
    "name": "ipython",
    "version": 3
   },
   "file_extension": ".py",
   "mimetype": "text/x-python",
   "name": "python",
   "nbconvert_exporter": "python",
   "pygments_lexer": "ipython3",
   "version": "3.8.5"
  }
 },
 "nbformat": 4,
 "nbformat_minor": 4
}
